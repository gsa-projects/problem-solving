{
 "cells": [
  {
   "cell_type": "code",
   "execution_count": 1,
   "id": "initial_id",
   "metadata": {
    "collapsed": true,
    "ExecuteTime": {
     "end_time": "2023-08-18T04:38:54.599290700Z",
     "start_time": "2023-08-18T04:38:54.566373100Z"
    }
   },
   "outputs": [
    {
     "data": {
      "text/plain": "float"
     },
     "execution_count": 1,
     "metadata": {},
     "output_type": "execute_result"
    }
   ],
   "source": [
    "type(3.14)"
   ]
  },
  {
   "cell_type": "code",
   "execution_count": 2,
   "outputs": [
    {
     "data": {
      "text/plain": "['__abs__',\n '__add__',\n '__bool__',\n '__ceil__',\n '__class__',\n '__delattr__',\n '__dir__',\n '__divmod__',\n '__doc__',\n '__eq__',\n '__float__',\n '__floor__',\n '__floordiv__',\n '__format__',\n '__ge__',\n '__getattribute__',\n '__getformat__',\n '__getnewargs__',\n '__getstate__',\n '__gt__',\n '__hash__',\n '__init__',\n '__init_subclass__',\n '__int__',\n '__le__',\n '__lt__',\n '__mod__',\n '__mul__',\n '__ne__',\n '__neg__',\n '__new__',\n '__pos__',\n '__pow__',\n '__radd__',\n '__rdivmod__',\n '__reduce__',\n '__reduce_ex__',\n '__repr__',\n '__rfloordiv__',\n '__rmod__',\n '__rmul__',\n '__round__',\n '__rpow__',\n '__rsub__',\n '__rtruediv__',\n '__setattr__',\n '__sizeof__',\n '__str__',\n '__sub__',\n '__subclasshook__',\n '__truediv__',\n '__trunc__',\n 'as_integer_ratio',\n 'conjugate',\n 'fromhex',\n 'hex',\n 'imag',\n 'is_integer',\n 'real']"
     },
     "execution_count": 2,
     "metadata": {},
     "output_type": "execute_result"
    }
   ],
   "source": [
    "dir(3.14)"
   ],
   "metadata": {
    "collapsed": false,
    "ExecuteTime": {
     "end_time": "2023-08-18T04:38:57.957883100Z",
     "start_time": "2023-08-18T04:38:57.936773500Z"
    }
   },
   "id": "a759a0151dc9edfb"
  },
  {
   "cell_type": "code",
   "execution_count": 3,
   "outputs": [
    {
     "data": {
      "text/plain": "2447097785488"
     },
     "execution_count": 3,
     "metadata": {},
     "output_type": "execute_result"
    }
   ],
   "source": [
    "id(3.14)"
   ],
   "metadata": {
    "collapsed": false,
    "ExecuteTime": {
     "end_time": "2023-08-18T04:40:13.706300300Z",
     "start_time": "2023-08-18T04:40:13.671503600Z"
    }
   },
   "id": "97ce51f6405e6dd3"
  },
  {
   "cell_type": "markdown",
   "source": [
    "python의 id 시스템 좀 이상함"
   ],
   "metadata": {
    "collapsed": false
   },
   "id": "f4a063a8b5d86fe8"
  },
  {
   "cell_type": "code",
   "execution_count": null,
   "outputs": [],
   "source": [
    "def get_weekday(current_weekday: int, days_ahead: int) -> int:\n",
    "    \"\"\"current_weekday에서 부터 days_ahead만큼 지났을 때의 요일을 반환합니다.\n",
    "    >>> get_weekday(7, 1)\n",
    "    1\n",
    "    >>> get_weekday(3, 1)\n",
    "    4\n",
    "    \"\"\"\n",
    "    \n",
    "    return (current_weekday - 1 + days_ahead) % 7 + 1"
   ],
   "metadata": {
    "collapsed": false
   },
   "id": "e696a608966becc7"
  },
  {
   "cell_type": "code",
   "execution_count": 1,
   "outputs": [],
   "source": [
    "def days_difference(day1: int, day2: int) -> int:\n",
    "    \"\"\"day1과 day2 사이의 일수 반환\n",
    "    \n",
    "    >>> days_difference(2000, 2000)\n",
    "    0\n",
    "    >>> days_difference(2000, 2001)\n",
    "    1\n",
    "    >>> days_difference(2000, 1999)\n",
    "    -1\n",
    "    \"\"\"\n",
    "    \n",
    "    return day2 - day1"
   ],
   "metadata": {
    "collapsed": false,
    "ExecuteTime": {
     "end_time": "2023-08-18T05:10:24.884386500Z",
     "start_time": "2023-08-18T05:10:24.879872500Z"
    }
   },
   "id": "a2524b07ef0959f6"
  },
  {
   "cell_type": "code",
   "execution_count": 2,
   "outputs": [],
   "source": [
    "def get_birthday_weekday(current_weekday: int, current_day: int, birthday_day: int) -> int:\n",
    "    \"\"\"\n",
    "    >>> get_birthday_weekday(5, 3, 4)\n",
    "    6\n",
    "    >>> get_birthday_weekday(5, 3, 116)\n",
    "    6\n",
    "    >>> get_birthday_weekday(6, 116, 3)\n",
    "    5\n",
    "    \"\"\"\n",
    "    \n",
    "    diff = days_difference(current_day, birthday_day)\n",
    "    return get_weekday(current_weekday, diff)"
   ],
   "metadata": {
    "collapsed": false,
    "ExecuteTime": {
     "end_time": "2023-08-18T05:13:39.536107900Z",
     "start_time": "2023-08-18T05:13:39.498298200Z"
    }
   },
   "id": "20a11f0c49f157f7"
  },
  {
   "cell_type": "code",
   "execution_count": 6,
   "outputs": [],
   "source": [
    "def pie_percent(n: int) -> int:\n",
    "    \"\"\"Precondition: n > 0 \n",
    "    \"\"\"\n",
    "    return int(100 / n)"
   ],
   "metadata": {
    "collapsed": false,
    "ExecuteTime": {
     "end_time": "2023-08-18T05:22:15.038123Z",
     "start_time": "2023-08-18T05:22:15.016586600Z"
    }
   },
   "id": "246c5e5387db03dc"
  },
  {
   "cell_type": "code",
   "execution_count": 7,
   "outputs": [
    {
     "ename": "ZeroDivisionError",
     "evalue": "division by zero",
     "output_type": "error",
     "traceback": [
      "\u001B[1;31m---------------------------------------------------------------------------\u001B[0m",
      "\u001B[1;31mZeroDivisionError\u001B[0m                         Traceback (most recent call last)",
      "Cell \u001B[1;32mIn[7], line 1\u001B[0m\n\u001B[1;32m----> 1\u001B[0m \u001B[43mpie_percent\u001B[49m\u001B[43m(\u001B[49m\u001B[38;5;241;43m0\u001B[39;49m\u001B[43m)\u001B[49m\n",
      "Cell \u001B[1;32mIn[6], line 4\u001B[0m, in \u001B[0;36mpie_percent\u001B[1;34m(n)\u001B[0m\n\u001B[0;32m      1\u001B[0m \u001B[38;5;28;01mdef\u001B[39;00m \u001B[38;5;21mpie_percent\u001B[39m(n: \u001B[38;5;28mint\u001B[39m) \u001B[38;5;241m-\u001B[39m\u001B[38;5;241m>\u001B[39m \u001B[38;5;28mint\u001B[39m:\n\u001B[0;32m      2\u001B[0m \u001B[38;5;250m    \u001B[39m\u001B[38;5;124;03m\"\"\"Precondition: n > 0 \u001B[39;00m\n\u001B[0;32m      3\u001B[0m \u001B[38;5;124;03m    \"\"\"\u001B[39;00m\n\u001B[1;32m----> 4\u001B[0m     \u001B[38;5;28;01mreturn\u001B[39;00m \u001B[38;5;28mint\u001B[39m(\u001B[38;5;241;43m100\u001B[39;49m\u001B[43m \u001B[49m\u001B[38;5;241;43m/\u001B[39;49m\u001B[43m \u001B[49m\u001B[43mn\u001B[49m)\n",
      "\u001B[1;31mZeroDivisionError\u001B[0m: division by zero"
     ]
    }
   ],
   "source": [
    "pie_percent(0)"
   ],
   "metadata": {
    "collapsed": false,
    "ExecuteTime": {
     "end_time": "2023-08-18T05:22:15.491007600Z",
     "start_time": "2023-08-18T05:22:15.459323200Z"
    }
   },
   "id": "f55eb798250bea10"
  },
  {
   "cell_type": "code",
   "execution_count": 26,
   "outputs": [
    {
     "name": "stdout",
     "output_type": "stream",
     "text": [
      "선택 정렬 성능 측정: 4.800536632537842\n",
      "기본 정렬 라이브러리 성능 측정: 0.0\n"
     ]
    }
   ],
   "source": [
    "import random\n",
    "import time\n",
    "\n",
    "# 배열에 10,000개의 정수를 삽입\n",
    "random.seed(123)\n",
    "array = []\n",
    "for _ in range(10000):\n",
    "    array.append(random.randint(1, 100)) # 1부터 100 사이의 랜덤한 정수\n",
    "\n",
    "# 선택 정렬 프로그램 성능 측정\n",
    "start_time = time.time()\n",
    "\n",
    "# 선택 정렬 프로그램 소스 코드\n",
    "for i in range(len(array)):\n",
    "    min_index = i # 가장 작은 원소의 인덱스\n",
    "    for j in range(i + 1, len(array)):\n",
    "        if array[min_index] > array[j]:\n",
    "            min_index = j\n",
    "    array[i], array[min_index] = array[min_index], array[i] # 스와프\n",
    "\n",
    "end_time = time.time() # 측정 종료\n",
    "print(\"선택 정렬 성능 측정:\", end_time - start_time) # 수행 시간 출력\n",
    "\n",
    "# 배열을 다시 무작위 데이터로 초기화\n",
    "random.seed(123)\n",
    "array = []\n",
    "for _ in range(10000):\n",
    "    array.append(random.randint(1, 100)) # 1부터 100 사이의 랜덤한 정수\n",
    "\n",
    "# 기본 정렬 라이브러리 성능 측정\n",
    "start_time = time.time()\n",
    "\n",
    "# 기본 정렬 라이브러리 사용\n",
    "array.sort()\n",
    "\n",
    "end_time = time.time() # 측정 종료\n",
    "print(\"기본 정렬 라이브러리 성능 측정:\", end_time - start_time) # 수행 시간 출력"
   ],
   "metadata": {
    "collapsed": false,
    "ExecuteTime": {
     "end_time": "2023-08-18T06:10:40.606008500Z",
     "start_time": "2023-08-18T06:10:35.784035300Z"
    }
   },
   "id": "43c0fbc9c19f3dda"
  },
  {
   "cell_type": "code",
   "execution_count": null,
   "outputs": [],
   "source": [],
   "metadata": {
    "collapsed": false
   },
   "id": "b9ecf35ec90e0f07"
  }
 ],
 "metadata": {
  "kernelspec": {
   "display_name": "Python 3",
   "language": "python",
   "name": "python3"
  },
  "language_info": {
   "codemirror_mode": {
    "name": "ipython",
    "version": 2
   },
   "file_extension": ".py",
   "mimetype": "text/x-python",
   "name": "python",
   "nbconvert_exporter": "python",
   "pygments_lexer": "ipython2",
   "version": "2.7.6"
  }
 },
 "nbformat": 4,
 "nbformat_minor": 5
}
