{
 "cells": [
  {
   "cell_type": "markdown",
   "metadata": {},
   "source": [
    "`id()`는 모든 객체에 대해 메모리 주소를 반환한다"
   ]
  },
  {
   "cell_type": "code",
   "execution_count": 22,
   "metadata": {},
   "outputs": [
    {
     "name": "stdout",
     "output_type": "stream",
     "text": [
      "140718951687208\n",
      "2923178658096\n",
      "2923081408384\n",
      "2923081406784\n"
     ]
    }
   ],
   "source": [
    "print(id(9))\n",
    "print(id(-9))\n",
    "print(id(id))\n",
    "print(id(abs))"
   ]
  },
  {
   "cell_type": "code",
   "execution_count": 21,
   "metadata": {},
   "outputs": [
    {
     "name": "stdout",
     "output_type": "stream",
     "text": [
      "id(100000000) = 2923178658640\n",
      "id(100000001) = 2923178658608\n",
      "id(100000002) = 2923178658640\n",
      "id(100000003) = 2923178658096\n",
      "id(100000004) = 2923178658640\n"
     ]
    }
   ],
   "source": [
    "for i in range(100_000_000, 100_000_005):\n",
    "    print(f'id({i}) = {id(i)}')"
   ]
  },
  {
   "cell_type": "code",
   "execution_count": 14,
   "metadata": {},
   "outputs": [
    {
     "name": "stdout",
     "output_type": "stream",
     "text": [
      "4\n",
      "12\n",
      "-108\n",
      "28\n"
     ]
    }
   ],
   "source": [
    "print((id(101) - id(100)) // 8)\n",
    "print((id(100_1) - id(100_0)) // 8)\n",
    "print((id(100_001) - id(100_000)) // 8)\n",
    "print((id(100_000_001) - id(100_000_000)) // 8)\n",
    "\n",
    "# 코드 실행할 때마다 계속 변하네 이거"
   ]
  },
  {
   "cell_type": "code",
   "execution_count": 15,
   "metadata": {},
   "outputs": [
    {
     "name": "stdout",
     "output_type": "stream",
     "text": [
      "global x: 140718951687240\n",
      "local x: 140718951687240\n",
      "20\n",
      "10\n"
     ]
    }
   ],
   "source": [
    "def f(x):\n",
    "    print(f'local x: {id(x)}')\n",
    "    x *= 2\n",
    "    return x\n",
    "\n",
    "x = 10\n",
    "print(f'global x: {id(x)}')\n",
    "print(f(x))\n",
    "print(x)\n",
    "\n",
    "# 두 x는 다른 namespace에 존재하는 다른 id를 가지는 변수이다.\n",
    "# 근데 id 값이 같음;"
   ]
  },
  {
   "cell_type": "markdown",
   "metadata": {},
   "source": [
    "변수가 메모리를 가지게 되는게 아니라 이미 있던 메모리에 변수가 붙는 느낌"
   ]
  },
  {
   "cell_type": "code",
   "execution_count": 23,
   "metadata": {},
   "outputs": [
    {
     "name": "stdout",
     "output_type": "stream",
     "text": [
      "140718951687016 140718951687016\n",
      "140718951687080 140718951687016\n"
     ]
    }
   ],
   "source": [
    "a = 3\n",
    "b = 3\n",
    "print(id(a), id(b)) # 값이 같으니까 같음\n",
    "\n",
    "a += 2\n",
    "print(id(a), id(b)) # 값이 다르니까 다름\n",
    "\n",
    "# 진짜 특이하네 ㅋㅋ"
   ]
  },
  {
   "cell_type": "markdown",
   "metadata": {},
   "source": [
    "type hint & docstring - function recipe\n",
    "1. Examples 작성\n",
    "2. Header 작성\n",
    "3. Description 작성\n",
    "4. Body 작성\n",
    "5. Test"
   ]
  },
  {
   "cell_type": "code",
   "execution_count": 1,
   "metadata": {
    "ExecuteTime": {
     "end_time": "2023-08-17T08:53:31.805446200Z",
     "start_time": "2023-08-17T08:53:31.790875800Z"
    }
   },
   "outputs": [],
   "source": [
    "def days_difference(day1: int, day2: int) -> int:\n",
    "    \"\"\"day1과 day2 사이의 일수 반환\n",
    "    \n",
    "    >>> days_difference(2000, 2000)\n",
    "    0\n",
    "    >>> days_difference(2000, 2001)\n",
    "    1\n",
    "    >>> days_difference(2000, 1999)\n",
    "    -1\n",
    "    \"\"\"\n",
    "    \n",
    "    return day2 - day1"
   ]
  },
  {
   "cell_type": "code",
   "execution_count": 2,
   "metadata": {
    "ExecuteTime": {
     "end_time": "2023-08-17T08:53:31.840012Z",
     "start_time": "2023-08-17T08:53:31.799455500Z"
    }
   },
   "outputs": [
    {
     "name": "stdout",
     "output_type": "stream",
     "text": [
      "0\n",
      "1\n",
      "-1\n"
     ]
    }
   ],
   "source": [
    "print(days_difference(2000, 2000))\n",
    "print(days_difference(2000, 2001))\n",
    "print(days_difference(2000, 1999))"
   ]
  },
  {
   "cell_type": "code",
   "execution_count": null,
   "outputs": [],
   "source": [],
   "metadata": {
    "collapsed": false
   }
  }
 ],
 "metadata": {
  "kernelspec": {
   "display_name": "Python 3",
   "language": "python",
   "name": "python3"
  },
  "language_info": {
   "codemirror_mode": {
    "name": "ipython",
    "version": 3
   },
   "file_extension": ".py",
   "mimetype": "text/x-python",
   "name": "python",
   "nbconvert_exporter": "python",
   "pygments_lexer": "ipython3",
   "version": "3.11.4"
  },
  "orig_nbformat": 4
 },
 "nbformat": 4,
 "nbformat_minor": 2
}
