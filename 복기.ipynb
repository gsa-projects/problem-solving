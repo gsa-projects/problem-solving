{
 "cells": [
  {
   "cell_type": "code",
   "execution_count": 1,
   "id": "initial_id",
   "metadata": {
    "collapsed": true,
    "ExecuteTime": {
     "end_time": "2023-12-19T03:08:11.175593500Z",
     "start_time": "2023-12-19T03:08:11.154060200Z"
    }
   },
   "outputs": [
    {
     "name": "stdout",
     "output_type": "stream",
     "text": [
      "1 2 4 3 6 9 7 10 8 5 "
     ]
    }
   ],
   "source": [
    "graph = [\n",
    "    [],\n",
    "    [2, 3],\n",
    "    [1, 4, 5],\n",
    "    [1, 4, 6, 7, 8],\n",
    "    [2, 3, 8],\n",
    "    [2],\n",
    "    [3, 9, 10],\n",
    "    [3, 9],\n",
    "    [3, 4, 10],\n",
    "    [6, 7, 10],\n",
    "    [6, 8, 9]\n",
    "]\n",
    "\n",
    "def dfs(g, v, V):\n",
    "    V[v] = True\n",
    "    print(v, end=' ')\n",
    "    \n",
    "    for w in g[v]:\n",
    "        if not V[w]:\n",
    "            dfs(g, w, V)\n",
    "\n",
    "dfs(graph, 1, [False] * len(graph))"
   ]
  },
  {
   "cell_type": "code",
   "execution_count": 2,
   "outputs": [
    {
     "name": "stdout",
     "output_type": "stream",
     "text": [
      "1 2 3 4 5 6 7 8 9 10 "
     ]
    }
   ],
   "source": [
    "from collections import deque\n",
    "\n",
    "def bfs(g, v):\n",
    "    visited = [False] * len(g)\n",
    "    visited[v] = True\n",
    "    queue = deque([v])\n",
    "    \n",
    "    while queue:\n",
    "        top = queue.popleft()\n",
    "        print(top, end=' ')\n",
    "        \n",
    "        for w in g[top]:\n",
    "            if not visited[w]:\n",
    "                visited[w] = True\n",
    "                queue.append(w)\n",
    "    \n",
    "bfs(graph, 1)"
   ],
   "metadata": {
    "collapsed": false,
    "ExecuteTime": {
     "end_time": "2023-12-19T03:09:47.207305100Z",
     "start_time": "2023-12-19T03:09:47.182753500Z"
    }
   },
   "id": "562e20c7813f3d37"
  },
  {
   "cell_type": "code",
   "execution_count": 3,
   "outputs": [
    {
     "name": "stdout",
     "output_type": "stream",
     "text": [
      "3 6 7 5 4 2 1 \n",
      "1 3 6 7 5 4 2 "
     ]
    }
   ],
   "source": [
    "def dfs(g, v):\n",
    "    visited = [False] * len(g)\n",
    "    visited[v] = True\n",
    "    stack = [v]\n",
    "    \n",
    "    while stack:\n",
    "        v = stack.pop()\n",
    "        print(v, end=' ')\n",
    "        \n",
    "        for w in g[v]:\n",
    "            if not visited[w]:\n",
    "                visited[w] = True\n",
    "                stack.append(w)\n",
    "\n",
    "graph = [\n",
    "    [],\n",
    "    [2, 3],\n",
    "    [1, 3],\n",
    "    [1, 2, 5, 6],\n",
    "    [5],\n",
    "    [3, 4, 7],\n",
    "    [3, 7],\n",
    "    [5, 6]\n",
    "]\n",
    "\n",
    "dfs(graph, 3)\n",
    "print()\n",
    "dfs(graph, 1)"
   ],
   "metadata": {
    "collapsed": false,
    "ExecuteTime": {
     "end_time": "2023-12-19T03:11:53.472117800Z",
     "start_time": "2023-12-19T03:11:53.460717500Z"
    }
   },
   "id": "1b0449b13d8249b2"
  },
  {
   "cell_type": "code",
   "execution_count": 5,
   "outputs": [
    {
     "data": {
      "text/plain": "[0, 0]"
     },
     "execution_count": 5,
     "metadata": {},
     "output_type": "execute_result"
    }
   ],
   "source": [
    "def binary_search(nums, target, findStart):\n",
    "    ans = -1\n",
    "    low, high = 0, len(nums) - 1\n",
    "    while low <= high:\n",
    "        mid = (low + high) // 2\n",
    "        if nums[mid] > target:\n",
    "            high = mid - 1\n",
    "        elif nums[mid] < target:\n",
    "            low = mid + 1\n",
    "        else:\n",
    "            ans = mid\n",
    "            if findStart:\n",
    "                high = mid - 1\n",
    "            else:\n",
    "                low = mid + 1\n",
    "    return ans\n",
    "\n",
    "def s(nums, target):\n",
    "    start = binary_search(nums, target, True)\n",
    "    end = binary_search(nums, target, False)\n",
    "    return [start, end]\n",
    "\n",
    "s([5, 7, 7, 7, 8, 8, 9], 5)"
   ],
   "metadata": {
    "collapsed": false,
    "ExecuteTime": {
     "end_time": "2023-12-19T03:16:35.233531500Z",
     "start_time": "2023-12-19T03:16:35.177963100Z"
    }
   },
   "id": "b7dc0f562a0dbe3b"
  },
  {
   "cell_type": "code",
   "execution_count": 8,
   "outputs": [],
   "source": [
    "nums = ['A', 'B', 'C']\n",
    "ans = []\n",
    "\n",
    "def dfs(n, subset):\n",
    "    ans.append(subset)\n",
    "    \n",
    "    for i in range(n, len(nums)):\n",
    "        dfs(i + 1, subset + [nums[i]])\n",
    "\n",
    "dfs(0, [])"
   ],
   "metadata": {
    "collapsed": false,
    "ExecuteTime": {
     "end_time": "2023-12-19T03:18:17.077506800Z",
     "start_time": "2023-12-19T03:18:17.068077400Z"
    }
   },
   "id": "4e67e6ce5aa8a627"
  },
  {
   "cell_type": "code",
   "execution_count": 9,
   "outputs": [
    {
     "data": {
      "text/plain": "[[], ['A'], ['A', 'B'], ['A', 'B', 'C'], ['A', 'C'], ['B'], ['B', 'C'], ['C']]"
     },
     "execution_count": 9,
     "metadata": {},
     "output_type": "execute_result"
    }
   ],
   "source": [
    "ans"
   ],
   "metadata": {
    "collapsed": false,
    "ExecuteTime": {
     "end_time": "2023-12-19T03:18:17.544221300Z",
     "start_time": "2023-12-19T03:18:17.537579800Z"
    }
   },
   "id": "ef9d36015d6e9bae"
  },
  {
   "cell_type": "code",
   "execution_count": 10,
   "outputs": [
    {
     "data": {
      "text/plain": "4"
     },
     "execution_count": 10,
     "metadata": {},
     "output_type": "execute_result"
    }
   ],
   "source": [
    "coin_types = [1, 5, 10, 50]\n",
    "coin_counts = [3, 2, 1, 3]\n",
    "\n",
    "def min_coins(coin_types, coin_counts, amount):\n",
    "    coins = sorted(zip(coin_types, coin_counts), reverse=True)\n",
    "    total_coins = 0\n",
    "    for coin, count in coins:\n",
    "        q = amount // coin\n",
    "        n = min(count, q)\n",
    "        total_coins += n\n",
    "        amount -= n * coin\n",
    "        if amount == 0:\n",
    "            return total_coins\n",
    "    return -1\n",
    "\n",
    "min_coins(coin_types, coin_counts, 57)"
   ],
   "metadata": {
    "collapsed": false,
    "ExecuteTime": {
     "end_time": "2023-12-19T03:20:36.557364700Z",
     "start_time": "2023-12-19T03:20:36.539285100Z"
    }
   },
   "id": "6f381dd0973de137"
  },
  {
   "cell_type": "code",
   "execution_count": 11,
   "outputs": [
    {
     "data": {
      "text/plain": "-1"
     },
     "execution_count": 11,
     "metadata": {},
     "output_type": "execute_result"
    }
   ],
   "source": [
    "min_coins(coin_types, coin_counts, 34)"
   ],
   "metadata": {
    "collapsed": false,
    "ExecuteTime": {
     "end_time": "2023-12-19T03:20:45.065635Z",
     "start_time": "2023-12-19T03:20:45.056092500Z"
    }
   },
   "id": "89153fd53a09e3b2"
  },
  {
   "cell_type": "code",
   "execution_count": 12,
   "outputs": [],
   "source": [
    "def count_ascending_number(n):\n",
    "    count = 0\n",
    "    \n",
    "    def dfs(num, depth):\n",
    "        if depth == n:\n",
    "            global count\n",
    "            count += 1\n",
    "            return\n",
    "        \n",
    "        for i in range(num % 10, 10):\n",
    "            dfs(num * 10 + i, depth + 1)\n",
    "    \n",
    "    for i in range(0, 10):\n",
    "        dfs(i, 1)\n",
    "    \n",
    "    return count"
   ],
   "metadata": {
    "collapsed": false,
    "ExecuteTime": {
     "end_time": "2023-12-19T03:21:51.064078200Z",
     "start_time": "2023-12-19T03:21:51.052631100Z"
    }
   },
   "id": "5df174581c4956c4"
  },
  {
   "cell_type": "code",
   "execution_count": 13,
   "outputs": [
    {
     "ename": "NameError",
     "evalue": "name 'count' is not defined",
     "output_type": "error",
     "traceback": [
      "\u001B[1;31m---------------------------------------------------------------------------\u001B[0m",
      "\u001B[1;31mNameError\u001B[0m                                 Traceback (most recent call last)",
      "Cell \u001B[1;32mIn[13], line 1\u001B[0m\n\u001B[1;32m----> 1\u001B[0m \u001B[43mcount_ascending_number\u001B[49m\u001B[43m(\u001B[49m\u001B[38;5;241;43m1\u001B[39;49m\u001B[43m)\u001B[49m\n",
      "Cell \u001B[1;32mIn[12], line 13\u001B[0m, in \u001B[0;36mcount_ascending_number\u001B[1;34m(n)\u001B[0m\n\u001B[0;32m     10\u001B[0m         dfs(num \u001B[38;5;241m*\u001B[39m \u001B[38;5;241m10\u001B[39m \u001B[38;5;241m+\u001B[39m i, depth \u001B[38;5;241m+\u001B[39m \u001B[38;5;241m1\u001B[39m)\n\u001B[0;32m     12\u001B[0m \u001B[38;5;28;01mfor\u001B[39;00m i \u001B[38;5;129;01min\u001B[39;00m \u001B[38;5;28mrange\u001B[39m(\u001B[38;5;241m0\u001B[39m, \u001B[38;5;241m10\u001B[39m):\n\u001B[1;32m---> 13\u001B[0m     \u001B[43mdfs\u001B[49m\u001B[43m(\u001B[49m\u001B[43mi\u001B[49m\u001B[43m,\u001B[49m\u001B[43m \u001B[49m\u001B[38;5;241;43m1\u001B[39;49m\u001B[43m)\u001B[49m\n\u001B[0;32m     15\u001B[0m \u001B[38;5;28;01mreturn\u001B[39;00m count\n",
      "Cell \u001B[1;32mIn[12], line 6\u001B[0m, in \u001B[0;36mcount_ascending_number.<locals>.dfs\u001B[1;34m(num, depth)\u001B[0m\n\u001B[0;32m      4\u001B[0m \u001B[38;5;28;01mif\u001B[39;00m depth \u001B[38;5;241m==\u001B[39m n:\n\u001B[0;32m      5\u001B[0m     \u001B[38;5;28;01mglobal\u001B[39;00m count\n\u001B[1;32m----> 6\u001B[0m     \u001B[43mcount\u001B[49m \u001B[38;5;241m+\u001B[39m\u001B[38;5;241m=\u001B[39m \u001B[38;5;241m1\u001B[39m\n\u001B[0;32m      7\u001B[0m     \u001B[38;5;28;01mreturn\u001B[39;00m\n\u001B[0;32m      9\u001B[0m \u001B[38;5;28;01mfor\u001B[39;00m i \u001B[38;5;129;01min\u001B[39;00m \u001B[38;5;28mrange\u001B[39m(num \u001B[38;5;241m%\u001B[39m \u001B[38;5;241m10\u001B[39m, \u001B[38;5;241m10\u001B[39m):\n",
      "\u001B[1;31mNameError\u001B[0m: name 'count' is not defined"
     ]
    }
   ],
   "source": [
    "count_ascending_number(1)"
   ],
   "metadata": {
    "collapsed": false,
    "ExecuteTime": {
     "end_time": "2023-12-19T03:21:56.734469800Z",
     "start_time": "2023-12-19T03:21:56.410996900Z"
    }
   },
   "id": "7d0fc4caf6170aca"
  },
  {
   "cell_type": "code",
   "execution_count": null,
   "outputs": [],
   "source": [],
   "metadata": {
    "collapsed": false
   },
   "id": "35e1d9af2d5b7cfb"
  }
 ],
 "metadata": {
  "kernelspec": {
   "display_name": "Python 3",
   "language": "python",
   "name": "python3"
  },
  "language_info": {
   "codemirror_mode": {
    "name": "ipython",
    "version": 2
   },
   "file_extension": ".py",
   "mimetype": "text/x-python",
   "name": "python",
   "nbconvert_exporter": "python",
   "pygments_lexer": "ipython2",
   "version": "2.7.6"
  }
 },
 "nbformat": 4,
 "nbformat_minor": 5
}
